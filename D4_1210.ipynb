{
 "cells": [
  {
   "cell_type": "markdown",
   "id": "4b47ad28",
   "metadata": {},
   "source": [
    "# 1210. [S/W 문제해결 기본] 2일차 - Ladder1"
   ]
  },
  {
   "cell_type": "markdown",
   "id": "67e15c4b",
   "metadata": {},
   "source": [
    "---"
   ]
  },
  {
   "cell_type": "markdown",
   "id": "a3b542a2",
   "metadata": {},
   "source": [
    "점심 시간에 산책을 다니는 사원들은 최근 날씨가 더워져, 사다리 게임을 통하여 누가 아이스크림을 구입할지 결정하기로 한다.\n",
    "\n",
    "김 대리는 사다리타기에 참여하지 않는 대신 사다리를 그리기로 하였다.\n",
    "\n",
    "사다리를 다 그리고 보니 김 대리는 어느 사다리를 고르면 X표시에 도착하게 되는지 궁금해졌다. 이를 구해보자.\n",
    "\n",
    "아래 <그림 1>의 예를 살펴보면, 출발점 x=0 및 x=9인 세로 방향의 두 막대 사이에 임의의 개수의 막대들이 랜덤 간격으로 추가되고(이 예에서는 2개가 추가됨) 이 막대들 사이에 가로 방향의 선들이 또한 랜덤하게 연결된다.\n",
    "\n",
    "\n",
    "--- \n",
    "X=0인 출발점에서 출발하는 사례에 대해서 화살표로 표시한 바와 같이, 아래 방향으로 진행하면서 좌우 방향으로 이동 가능한 통로가 나타나면, 방향 전환을 하게 된다.\n",
    "\n",
    "방향 전환 이후엔 다시 아래 방향으로만 이동하게 되며, 바닥에 도착하면 멈추게 된다.\n",
    "\n",
    "문제의 X표시에 도착하려면 X=4인 출발점에서 출발해야 하므로 답은 4가 된다. 해당 경로는 별도로 표시하였다.\n",
    "\n"
   ]
  },
  {
   "cell_type": "markdown",
   "id": "36181349",
   "metadata": {},
   "source": [
    "---"
   ]
  },
  {
   "cell_type": "markdown",
   "id": "8d976316",
   "metadata": {},
   "source": [
    "## [제약 사항]\n",
    "\n",
    "한 막대에서 출발한 가로선이 다른 막대를 가로질러서 연속하여 이어지는 경우는 없다.\n",
    "\n",
    "## [입력]\n",
    "\n",
    "입력 파일의 첫 번째 줄에는 테스트 케이스의 번호가 주어지며, 바로 다음 줄에 테스트 케이스가 주어진다.\n",
    "\n",
    "총 10개의 테스트 케이스가 주어진다.\n",
    "\n",
    "## [출력]\n",
    "\n",
    "#부호와 함께 테스트 케이스의 번호를 출력하고, 공백 문자 후 도착하게 되는 출발점의 x좌표를 출력한다."
   ]
  },
  {
   "cell_type": "markdown",
   "id": "ad78972d",
   "metadata": {},
   "source": [
    "---"
   ]
  },
  {
   "cell_type": "markdown",
   "id": "ff6309a1",
   "metadata": {},
   "source": [
    "## Memo\n",
    "\n",
    "\n",
    "- 우선 순위, 좌 우 검사 후 이동 가능하면 좌우로 이동, \n",
    "\n",
    "- 좌 우 검사시, 양옆 처음 이랑 끝 range error > zero padding\n",
    "\n",
    "- 시작 점 여러개, 도착 점 하나 > 뒤에서 부터 처리 값이 2인 부분이 도착 지점, 도착 지점을 start 설정\n",
    "\n",
    "- 사다리 타기 특성상, 같은 층에서 양옆 둘다 이동 가는 케이스는 존재 x\n",
    "    - 왼쪽 있거나, 오른쪽 있거나 \n",
    "    \n",
    "\n",
    "   \n",
    "- 이동 부분을 모두 0으로 처리해야줘야함. 시작 부분 부터 \n",
    "\n",
    "- 안그러면 0으로 안바꾸면, 왼쪽으로 이동후 1 1 다시 또 오른쪽으로 계속 이동\n"
   ]
  },
  {
   "cell_type": "markdown",
   "id": "2f5dbea1",
   "metadata": {},
   "source": [
    "---"
   ]
  },
  {
   "cell_type": "markdown",
   "id": "b70b41e6",
   "metadata": {},
   "source": [
    "<img src = '1210.png' width = '500' height = '500'>"
   ]
  },
  {
   "cell_type": "markdown",
   "id": "78227680",
   "metadata": {},
   "source": [
    "---"
   ]
  },
  {
   "cell_type": "code",
   "execution_count": null,
   "id": "90564734",
   "metadata": {},
   "outputs": [],
   "source": [
    "T = 10\n",
    "\n",
    "for t in range(1,T+1):\n",
    "    \n",
    "    _ = int(input())\n",
    "    \n",
    "    arr = [ [0] + list(map(int,input().split())) + [0] for _ in range(100)]\n",
    "    \n",
    "    \n",
    "    # 뒤에서 부터 시작하는것으로 처리, start 찾기\n",
    "    si = 99\n",
    "    \n",
    "    for cj in range(1,100+1):\n",
    "        if arr[si][cj] == 2:\n",
    "            sj = cj\n",
    "            break\n",
    "\n",
    "    \n",
    "    while(1):\n",
    "        if si == 0:\n",
    "            break\n",
    "            \n",
    "        if arr[si][sj-1] == 1:\n",
    "            arr[si][sj] = 0\n",
    "            si,sj = si,sj-1\n",
    "        \n",
    "        elif arr[si][sj+1] == 1:\n",
    "            arr[si][sj] = 0\n",
    "            si,sj = si,sj+1\n",
    "        \n",
    "        else:\n",
    "            arr[si][sj] = 0\n",
    "            si,sj = si-1,sj\n",
    "            \n",
    "    \n",
    "    print('#{0} {1}'.format(t,sj-1))\n",
    "        "
   ]
  },
  {
   "cell_type": "markdown",
   "id": "cc9caf1d",
   "metadata": {},
   "source": [
    "---"
   ]
  },
  {
   "cell_type": "code",
   "execution_count": null,
   "id": "785211d0",
   "metadata": {},
   "outputs": [],
   "source": [
    "T = 10\n",
    "\n",
    "for t in range(1,T+1):\n",
    "    \n",
    "    _ = int(input())\n",
    "    \n",
    "    arr = [ [0] + list(map(int,input().split())) + [0] for _ in range(100)]\n",
    "    \n",
    "    \n",
    "    # 뒤에서 부터 시작하는것으로 처리, start 찾기\n",
    "    si = 99\n",
    "    \n",
    "    for cj in range(1,100+1):\n",
    "        if arr[si][cj] == 2:\n",
    "            sj = cj\n",
    "            break\n",
    "\n",
    "    \n",
    "    while(1):\n",
    "        if si == 0:\n",
    "            break\n",
    "        \n",
    "        arr[si][sj] = 0\n",
    "\n",
    "        if arr[si][sj-1] == 1:\n",
    "            si,sj = si,sj-1\n",
    "        \n",
    "        elif arr[si][sj+1] == 1:\n",
    "            si,sj = si,sj+1\n",
    "        \n",
    "        else:\n",
    "            si,sj = si-1,sj\n",
    "            \n",
    "    \n",
    "    print('#{0} {1}'.format(t,sj-1))\n",
    "        "
   ]
  },
  {
   "cell_type": "markdown",
   "id": "ecf49a40",
   "metadata": {},
   "source": [
    "---"
   ]
  },
  {
   "cell_type": "code",
   "execution_count": null,
   "id": "37663716",
   "metadata": {},
   "outputs": [],
   "source": [
    "T = 10\n",
    "\n",
    "for t in range(1, T + 1):\n",
    "        \n",
    "    _ = int(input())\n",
    "    \n",
    "    # range error 처리 용 앞 뒤 zero padding - 0인 부분 이동 x \n",
    "    arr = [[0] + list(map(int, input().split())) + [0] for _ in range(100)]\n",
    " \n",
    "    # 2값인 시작위치 찾기(ci, cj)\n",
    "    ci = 99\n",
    "    for j in range(100):\n",
    "        if arr[ci][j] == 2:\n",
    "            cj = j\n",
    "            break\n",
    " \n",
    "    #  ci = 0이되면 끝 0행까지 올라가면서 1. (좌/우), 2. 위\n",
    "\n",
    "    while ci!=0:\n",
    "        \n",
    "        arr[ci][cj] = 0 # 현재 위치 0 으로 만들면서 시작 \n",
    "        \n",
    "        if arr[ci][cj-1] == 1:  # 왼쪽에 길\n",
    "            cj -= 1\n",
    "        elif arr[ci][cj+1] == 1: # 오른쪽에 길 \n",
    "            cj += 1\n",
    "        else:\n",
    "            ci -= 1 # 위로 이동 \n",
    " \n",
    "    print('#{0} {1}'.format(t,cj-1))\n",
    "    "
   ]
  },
  {
   "cell_type": "markdown",
   "id": "47dedd46",
   "metadata": {},
   "source": [
    "---"
   ]
  }
 ],
 "metadata": {
  "kernelspec": {
   "display_name": "Python 3 (ipykernel)",
   "language": "python",
   "name": "python3"
  },
  "language_info": {
   "codemirror_mode": {
    "name": "ipython",
    "version": 3
   },
   "file_extension": ".py",
   "mimetype": "text/x-python",
   "name": "python",
   "nbconvert_exporter": "python",
   "pygments_lexer": "ipython3",
   "version": "3.11.2"
  }
 },
 "nbformat": 4,
 "nbformat_minor": 5
}
