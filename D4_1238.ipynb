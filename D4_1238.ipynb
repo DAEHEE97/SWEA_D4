{
 "cells": [
  {
   "cell_type": "markdown",
   "id": "67da5141",
   "metadata": {},
   "source": [
    "# 1238. [S/W 문제해결 기본] 10일차 - Contact\n",
    "\n",
    "- https://swexpertacademy.com/main/code/problem/problemDetail.do?contestProbId=AV15B1cKAKwCFAYD"
   ]
  },
  {
   "cell_type": "markdown",
   "id": "0c4edd44",
   "metadata": {},
   "source": [
    "---"
   ]
  },
  {
   "cell_type": "markdown",
   "id": "f46382b5",
   "metadata": {},
   "source": [
    "비상연락망과 연락을 시작하는 당번에 대한 정보가 주어질 때, 가장 나중에 연락을 받게 되는 사람 중 번호가 가장 큰 사람을 구하는 함수를 작성하시오.\n",
    " \n",
    "## [예시]\n",
    "\n",
    "아래는 비상연락망을 나타낸 그림이다.\n",
    "\n",
    "\n",
    "각 원은 개개인을 의미하며, 원 안의 숫자는 그사람의 번호를 나타내고 빨간원은 연락을 시작하는 당번을 의미한다.\n",
    "\n",
    "화살표는 연락이 가능한 방향을 의미한다.\n",
    "\n",
    "위의 예시에서는 7번과 1번은 서로 연락이 가능하다,\n",
    "\n",
    "하지만 2번과 7번의 경우 2번은 7번에게 연락할 수 있지만 7번은 2번에게 연락할 수 없다.\n",
    " \n",
    "비상연락망이 가동되면 아래 그림과 같이 연락을 시작하는 당번인 2번은 연락 가능한 7번과 15번에 동시에 연락을 취한다 (다자 간 통화를 사용한다고 가정).\n",
    "\n",
    "\n",
    "그 다음 아래와 같이 7번은 1번에게, 15번은 4번에게 연락을 취한다 (이 과정은 동시에 일어난다고 가정한다).\n",
    "\n",
    "\n",
    "그 다음 아래와 같이 1번은 8번과 17번에게 동시에 연락하며, 이와 동시에 4번은 10번에게 연락한다.\n",
    "\n",
    "7번과 2번의 경우는 이미 연락을 받은 상태이기 때문에 다시 연락하지 않는다.\n",
    "\n",
    "\n",
    "위의 모습이 연락이 끝난 마지막 모습이 되며, 마지막에 동시에 연락 받은 사람은 8번, 10번, 17번의 세 명이다.\n",
    "\n",
    "이 중에서 가장 숫자가 큰 사람은 17번이므로 17을 반환하면 된다.\n",
    " \n",
    "※ 3, 6, 11, 22번은 시간이 지나도 연락을 받지 못한다.\n",
    " \n",
    "## [제약 사항]\n",
    "\n",
    "연락 인원은 최대 100명이며, 부여될 수 있는 번호는 1이상, 100이하이다.\n",
    "\n",
    "단, 예시에서 5번이 존재하지 않듯이 중간 중간에 비어있는 번호가 있을 수 있다.\n",
    "\n",
    "한 명의 사람이 다수의 사람에게 연락이 가능한 경우 항상 다자 간 통화를 통해 동시에 전달한다.\n",
    "\n",
    "연락이 퍼지는 속도는 항상 일정하다 (전화를 받은 사람이 다음사람에게 전화를 거는 속도는 동일).\n",
    "\n",
    "비상연락망 정보는 사전에 공유되며 한 번 연락을 받은 사람에게 다시 연락을 하는 일은 없다.\n",
    "\n",
    "예시에서의 3, 6, 11, 22번과 같이 연락을 받을 수 없는 사람도 존재할 수 있다.\n",
    " \n",
    "## [입력]\n",
    "\n",
    "10개의 테스트 케이스가 주어진다.\n",
    "\n",
    "각 테스트 케이스의 첫 번째 줄에는 입력 받는 데이터의 길이와 시작점이 주어진다.\n",
    "\n",
    "그 다음 줄에 입력받는 데이터는 {from, to, from, to, …} 의 순서로 해석되며 예시의 경우는 {2, 7, 11, 6, 6, 2, 2, 15, 15, 4, 4, 2, 4, 10, 7, 1, 1, 7, 1, 8, 1, 17, 3, 22}와 같다.\n",
    "\n",
    "그런데 순서에는 상관이 없으므로 다음과 같이 주어진 인풋도 동일한 비상연락망을 나타낸다 (같은 비상연락망을 표현하는 다양한 인풋이 존재 가능하다).\n",
    "\n",
    "{1, 17, 3, 22, 1, 8, 1, 7, 7, 1, 2, 7, 2, 15, 15, 4, 6, 2, 11, 6, 4, 10, 4, 2}\n",
    "\n",
    "다음과 같이 동일한 {from, to}쌍이 여러 번 반복되는 경우도 있으며, 한 번 기록된 경우와 여러 번 기록된 경우의 차이는 없다.\n",
    "\n",
    "{1, 17, 1, 17, 1, 17, 3, 22, 1, 8, 1, 7, 7, 1, 2, 7, 2, 15, 15, 4, 6, 2, 11, 6, 4, 10, 11, 6, 4, 2}\n",
    " \n",
    "## [출력]\n",
    "\n",
    "#부호와 함께 테스트 케이스의 번호를 출력하고, 공백 문자 후 테스트 케이스에 대한 답을 출력한다."
   ]
  },
  {
   "cell_type": "markdown",
   "id": "749aef70",
   "metadata": {},
   "source": [
    "---"
   ]
  },
  {
   "cell_type": "markdown",
   "id": "32388cb7",
   "metadata": {},
   "source": [
    "## Memo\n",
    "\n",
    "- 방문 표시 에서 제일 늦게 방문한 점들중 점의 값이 최대인 점 값(idx) 출력"
   ]
  },
  {
   "cell_type": "code",
   "execution_count": 20,
   "id": "cceab640",
   "metadata": {},
   "outputs": [
    {
     "name": "stdout",
     "output_type": "stream",
     "text": [
      "24 2\n",
      "100 17 39 22 100 8 100 7 7 100 2 7 2 15 15 4 6 2 11 6 4 10 4 2\n",
      "#1 17\n"
     ]
    }
   ],
   "source": [
    "from collections import deque\n",
    "\n",
    "\n",
    "def bfs(s):\n",
    "    \n",
    "    q = deque()\n",
    "    v = [0] * (100+1)\n",
    "    \n",
    "    q.append(s)\n",
    "    v[s] = 1\n",
    "    \n",
    "    while q:\n",
    "        \n",
    "        c = q.popleft()\n",
    "        \n",
    "        for n in adj[c]:\n",
    "            \n",
    "            if v[n] == 0:\n",
    "                v[n] = v[c] + 1\n",
    "                q.append(n)\n",
    "        \n",
    "    \n",
    "    # 마지막으로 방문한 정점들의 인덱스 \n",
    "    lst_idx = [ i for i,value in enumerate(v) if value == max(v) ]\n",
    "    \n",
    "    return max(lst_idx)\n",
    "        \n",
    "\n",
    "    \n",
    "T = 1\n",
    "\n",
    "for t in range(1, T+1):\n",
    "    \n",
    "    N,S = map(int,input().split())\n",
    "    \n",
    "    lst = list(map(int,input().split()))\n",
    "    \n",
    "    # from to fh\n",
    "    # 간선의 개수 \n",
    "    \n",
    "    # 0은 냅두고 생성\n",
    "    \n",
    "    M = len(lst)//2\n",
    "    \n",
    "    adj = [ [] for _ in range(100+1) ]\n",
    "    \n",
    "    for _ in range(M):\n",
    "        \n",
    "        si = lst.pop(0)\n",
    "        ei = lst.pop(0)\n",
    "        \n",
    "        adj[si].append(ei)\n",
    "        \n",
    "    # 인접 리스트 생성\n",
    "        \n",
    "    ans = bfs(S)\n",
    "    \n",
    "    print('#{0} {1}'.format(t,ans))"
   ]
  },
  {
   "cell_type": "markdown",
   "id": "42d9d703",
   "metadata": {},
   "source": [
    "---"
   ]
  },
  {
   "cell_type": "code",
   "execution_count": null,
   "id": "269c68e9",
   "metadata": {},
   "outputs": [],
   "source": [
    "def bfs(s):\n",
    "    q = []\n",
    "    v = [0]*101\n",
    "\n",
    "    q.append(s)\n",
    "    v[s]=1\n",
    "    ans = s         # 리턴할 노드번호\n",
    "\n",
    "    while q:\n",
    "        c = q.pop(0)\n",
    "        \n",
    "        # 더 늦게 연락받거나  동시에 최종연락이면 큰 값\n",
    "        \n",
    "        if v[ans]<v[c] or (v[ans]==v[c] and ans<c):\n",
    "            ans = c\n",
    "\n",
    "        for n in adj[c]:    # 연결된\n",
    "            if not v[n]:    # 미방문\n",
    "                q.append(n)\n",
    "                v[n] = v[c]+1\n",
    "    return ans\n",
    "\n",
    "T = 10\n",
    "# T = int(input())\n",
    "for test_case in range(1, T + 1):\n",
    "    N, S = map(int, input().split())\n",
    "    lst = list(map(int, input().split()))\n",
    "    adj = [[] for _ in range(101)]\n",
    "    for i in range(0, len(lst), 2):\n",
    "        p, c = lst[i], lst[i+1]\n",
    "        adj[p].append(c)\n",
    "\n",
    "    ans = bfs(S)\n",
    "    print(f'#{test_case} {ans}')"
   ]
  }
 ],
 "metadata": {
  "kernelspec": {
   "display_name": "Python 3 (ipykernel)",
   "language": "python",
   "name": "python3"
  },
  "language_info": {
   "codemirror_mode": {
    "name": "ipython",
    "version": 3
   },
   "file_extension": ".py",
   "mimetype": "text/x-python",
   "name": "python",
   "nbconvert_exporter": "python",
   "pygments_lexer": "ipython3",
   "version": "3.8.16"
  },
  "toc": {
   "base_numbering": 1,
   "nav_menu": {},
   "number_sections": true,
   "sideBar": true,
   "skip_h1_title": false,
   "title_cell": "Table of Contents",
   "title_sidebar": "Contents",
   "toc_cell": false,
   "toc_position": {},
   "toc_section_display": true,
   "toc_window_display": false
  },
  "varInspector": {
   "cols": {
    "lenName": 16,
    "lenType": 16,
    "lenVar": 40
   },
   "kernels_config": {
    "python": {
     "delete_cmd_postfix": "",
     "delete_cmd_prefix": "del ",
     "library": "var_list.py",
     "varRefreshCmd": "print(var_dic_list())"
    },
    "r": {
     "delete_cmd_postfix": ") ",
     "delete_cmd_prefix": "rm(",
     "library": "var_list.r",
     "varRefreshCmd": "cat(var_dic_list()) "
    }
   },
   "types_to_exclude": [
    "module",
    "function",
    "builtin_function_or_method",
    "instance",
    "_Feature"
   ],
   "window_display": false
  }
 },
 "nbformat": 4,
 "nbformat_minor": 5
}
