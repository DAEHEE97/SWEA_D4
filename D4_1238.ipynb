{
 "cells": [
  {
   "cell_type": "markdown",
   "id": "67da5141",
   "metadata": {},
   "source": [
    "# 1238. [S/W 문제해결 기본] 10일차 - Contact\n",
    "\n",
    "- https://swexpertacademy.com/main/code/problem/problemDetail.do?contestProbId=AV15B1cKAKwCFAYD"
   ]
  },
  {
   "cell_type": "markdown",
   "id": "0c4edd44",
   "metadata": {},
   "source": [
    "---"
   ]
  },
  {
   "cell_type": "markdown",
   "id": "f46382b5",
   "metadata": {},
   "source": [
    "비상연락망과 연락을 시작하는 당번에 대한 정보가 주어질 때, 가장 나중에 연락을 받게 되는 사람 중 번호가 가장 큰 사람을 구하는 함수를 작성하시오.\n",
    " \n",
    "## [예시]\n",
    "\n",
    "아래는 비상연락망을 나타낸 그림이다.\n",
    "\n",
    "\n",
    "각 원은 개개인을 의미하며, 원 안의 숫자는 그사람의 번호를 나타내고 빨간원은 연락을 시작하는 당번을 의미한다.\n",
    "\n",
    "화살표는 연락이 가능한 방향을 의미한다.\n",
    "\n",
    "위의 예시에서는 7번과 1번은 서로 연락이 가능하다,\n",
    "\n",
    "하지만 2번과 7번의 경우 2번은 7번에게 연락할 수 있지만 7번은 2번에게 연락할 수 없다.\n",
    " \n",
    "비상연락망이 가동되면 아래 그림과 같이 연락을 시작하는 당번인 2번은 연락 가능한 7번과 15번에 동시에 연락을 취한다 (다자 간 통화를 사용한다고 가정).\n",
    "\n",
    "\n",
    "그 다음 아래와 같이 7번은 1번에게, 15번은 4번에게 연락을 취한다 (이 과정은 동시에 일어난다고 가정한다).\n",
    "\n",
    "\n",
    "그 다음 아래와 같이 1번은 8번과 17번에게 동시에 연락하며, 이와 동시에 4번은 10번에게 연락한다.\n",
    "\n",
    "7번과 2번의 경우는 이미 연락을 받은 상태이기 때문에 다시 연락하지 않는다.\n",
    "\n",
    "\n",
    "위의 모습이 연락이 끝난 마지막 모습이 되며, 마지막에 동시에 연락 받은 사람은 8번, 10번, 17번의 세 명이다.\n",
    "\n",
    "이 중에서 가장 숫자가 큰 사람은 17번이므로 17을 반환하면 된다.\n",
    " \n",
    "※ 3, 6, 11, 22번은 시간이 지나도 연락을 받지 못한다.\n",
    " \n",
    "## [제약 사항]\n",
    "\n",
    "연락 인원은 최대 100명이며, 부여될 수 있는 번호는 1이상, 100이하이다.\n",
    "\n",
    "단, 예시에서 5번이 존재하지 않듯이 중간 중간에 비어있는 번호가 있을 수 있다.\n",
    "\n",
    "한 명의 사람이 다수의 사람에게 연락이 가능한 경우 항상 다자 간 통화를 통해 동시에 전달한다.\n",
    "\n",
    "연락이 퍼지는 속도는 항상 일정하다 (전화를 받은 사람이 다음사람에게 전화를 거는 속도는 동일).\n",
    "\n",
    "비상연락망 정보는 사전에 공유되며 한 번 연락을 받은 사람에게 다시 연락을 하는 일은 없다.\n",
    "\n",
    "예시에서의 3, 6, 11, 22번과 같이 연락을 받을 수 없는 사람도 존재할 수 있다.\n",
    " \n",
    "## [입력]\n",
    "\n",
    "10개의 테스트 케이스가 주어진다.\n",
    "\n",
    "각 테스트 케이스의 첫 번째 줄에는 입력 받는 데이터의 길이와 시작점이 주어진다.\n",
    "\n",
    "그 다음 줄에 입력받는 데이터는 {from, to, from, to, …} 의 순서로 해석되며 예시의 경우는 {2, 7, 11, 6, 6, 2, 2, 15, 15, 4, 4, 2, 4, 10, 7, 1, 1, 7, 1, 8, 1, 17, 3, 22}와 같다.\n",
    "\n",
    "그런데 순서에는 상관이 없으므로 다음과 같이 주어진 인풋도 동일한 비상연락망을 나타낸다 (같은 비상연락망을 표현하는 다양한 인풋이 존재 가능하다).\n",
    "\n",
    "{1, 17, 3, 22, 1, 8, 1, 7, 7, 1, 2, 7, 2, 15, 15, 4, 6, 2, 11, 6, 4, 10, 4, 2}\n",
    "\n",
    "다음과 같이 동일한 {from, to}쌍이 여러 번 반복되는 경우도 있으며, 한 번 기록된 경우와 여러 번 기록된 경우의 차이는 없다.\n",
    "\n",
    "{1, 17, 1, 17, 1, 17, 3, 22, 1, 8, 1, 7, 7, 1, 2, 7, 2, 15, 15, 4, 6, 2, 11, 6, 4, 10, 11, 6, 4, 2}\n",
    " \n",
    "## [출력]\n",
    "\n",
    "#부호와 함께 테스트 케이스의 번호를 출력하고, 공백 문자 후 테스트 케이스에 대한 답을 출력한다."
   ]
  },
  {
   "cell_type": "markdown",
   "id": "749aef70",
   "metadata": {},
   "source": [
    "---"
   ]
  },
  {
   "cell_type": "markdown",
   "id": "05daf22a",
   "metadata": {},
   "source": [
    "## Memo\n",
    "\n",
    "- 방문 표시 에서 제일 늦게 방문한 점들중 점의 값이 최대인 점 값(idx) 출력"
   ]
  },
  {
   "cell_type": "code",
   "execution_count": 1,
   "id": "d3f41c69",
   "metadata": {},
   "outputs": [
    {
     "name": "stdout",
     "output_type": "stream",
     "text": [
      "24 2\n",
      "100 17 39 22 100 8 100 7 7 100 2 7 2 15 15 4 6 2 11 6 4 10 4 2\n",
      "#1 17\n"
     ]
    }
   ],
   "source": [
    "from collections import deque\n",
    "\n",
    "def bfs(s):\n",
    "    \n",
    "    q = deque()\n",
    "   # v = [0] * (100+1) # 인접리스트와 크기가 같은 방문 표시 리스트 생성 \n",
    "    \n",
    "    q.append(s)\n",
    "    v[s] = 1\n",
    "    \n",
    "    while q:\n",
    "        \n",
    "        c = q.popleft()\n",
    "        \n",
    "        for n in adj[c]:\n",
    "            \n",
    "            if v[n] == 0:\n",
    "                v[n] = v[c] + 1\n",
    "                q.append(n)\n",
    "        \n",
    "    \n",
    "    # 마지막으로 방문한 정점들의 인덱스 \n",
    "    lst_idx = [ i for i,value in enumerate(v) if value == max(v) ]\n",
    "    \n",
    "    return max(lst_idx)\n",
    "        \n",
    "\n",
    "    \n",
    "T = 1\n",
    "\n",
    "for t in range(1, T+1):\n",
    "    \n",
    "    # 입력 받는 데이터 길이, 시작 노드\n",
    "    \n",
    "    N,S = map(int,input().split())\n",
    "    \n",
    "    # from to \n",
    "    lst = list(map(int,input().split()))\n",
    "    \n",
    "    # 인접리스트 크기 노드 번호 기준 생성 해야 함.\n",
    "    # 개수 101개, 노드 번호 0~100\n",
    "    adj = [ [] for _ in range(100+1) ]\n",
    "    \n",
    "    # 인접 리스트 입력 from to 단방향.\n",
    "    M = len(lst) // 2\n",
    "    for _ in range(M):\n",
    "        \n",
    "        si = lst.pop(0)\n",
    "        ei = lst.pop(0)\n",
    "        \n",
    "        adj[si].append(ei)\n",
    "        \n",
    "    # bfs\n",
    "    \n",
    "    v = [0] * (100+1) # 인접리스트와 크기가 같은 방문 표시 리스트 생성 \n",
    "\n",
    "    ans = bfs(S)\n",
    "    \n",
    "    print('#{0} {1}'.format(t,ans))"
   ]
  },
  {
   "cell_type": "code",
   "execution_count": 2,
   "id": "245317d3",
   "metadata": {},
   "outputs": [
    {
     "data": {
      "text/plain": [
       "3"
      ]
     },
     "execution_count": 2,
     "metadata": {},
     "output_type": "execute_result"
    }
   ],
   "source": [
    "v.count(4)"
   ]
  },
  {
   "cell_type": "code",
   "execution_count": 3,
   "id": "ed10a9f9",
   "metadata": {},
   "outputs": [],
   "source": [
    "ans_lst = [ (i,value) for i,value in enumerate(v) if value == 4 ]"
   ]
  },
  {
   "cell_type": "code",
   "execution_count": 4,
   "id": "817ced40",
   "metadata": {},
   "outputs": [
    {
     "data": {
      "text/plain": [
       "[(8, 4), (10, 4), (17, 4)]"
      ]
     },
     "execution_count": 4,
     "metadata": {},
     "output_type": "execute_result"
    }
   ],
   "source": [
    "ans_lst"
   ]
  },
  {
   "cell_type": "markdown",
   "id": "f9ab5eb9",
   "metadata": {},
   "source": [
    "---"
   ]
  },
  {
   "cell_type": "markdown",
   "id": "34c9c90a",
   "metadata": {},
   "source": [
    "- bfs 함수에서 정답 처리"
   ]
  },
  {
   "cell_type": "code",
   "execution_count": 5,
   "id": "01eb080b",
   "metadata": {},
   "outputs": [
    {
     "name": "stdout",
     "output_type": "stream",
     "text": [
      "24 2\n",
      "100 17 39 22 100 8 100 7 7 100 2 7 2 15 15 4 6 2 11 6 4 10 4 2\n",
      "#1 17\n"
     ]
    }
   ],
   "source": [
    "from collections import deque\n",
    "\n",
    "def bfs(s):\n",
    "    \n",
    "    q = deque()\n",
    "   # v = [0] * (100+1) # 인접리스트와 크기가 같은 방문 표시 리스트 생성 \n",
    "    \n",
    "    q.append(s)\n",
    "    \n",
    "    v[s] = 1\n",
    "    \n",
    "    ans = s # 정답 처리 \n",
    "    \n",
    "    while q:\n",
    "        \n",
    "        c = q.popleft()\n",
    "        \n",
    "        # 제일 거리가 멀거나 혹은 거리가 같은데 번호가 더 커야 함.\n",
    "        if v[c] > v[ans] or (v[c] == v[ans] and c > ans):\n",
    "            ans = c\n",
    "        \n",
    "        for n in adj[c]:\n",
    "            \n",
    "            if v[n] == 0:\n",
    "                v[n] = v[c] + 1\n",
    "                q.append(n)\n",
    "        \n",
    "    \n",
    "    # 마지막으로 방문한 정점들의 인덱스 \n",
    "    #lst_idx = [ i for i,value in enumerate(v) if value == max(v) ]\n",
    "    \n",
    "    return ans\n",
    "        \n",
    "\n",
    "    \n",
    "T = 1\n",
    "\n",
    "for t in range(1, T+1):\n",
    "    \n",
    "    # 입력 받는 데이터 길이, 시작 노드\n",
    "    \n",
    "    N,S = map(int,input().split())\n",
    "    \n",
    "    # from to \n",
    "    lst = list(map(int,input().split()))\n",
    "    \n",
    "    # 인접리스트 크기 노드 번호 기준 생성 해야 함.\n",
    "    # 개수 101개, 노드 번호 0~100\n",
    "    adj = [ [] for _ in range(100+1) ]\n",
    "    \n",
    "    # 인접 리스트 입력 from to 단방향.\n",
    "    M = len(lst) // 2\n",
    "    for _ in range(M):\n",
    "        \n",
    "        si = lst.pop(0)\n",
    "        ei = lst.pop(0)\n",
    "        \n",
    "        adj[si].append(ei)\n",
    "        \n",
    "    # bfs\n",
    "    \n",
    "    v = [0] * (100+1) # 인접리스트와 크기가 같은 방문 표시 리스트 생성 \n",
    "\n",
    "    ans = bfs(S)\n",
    "    \n",
    "    print('#{0} {1}'.format(t,ans))"
   ]
  }
 ],
 "metadata": {
  "kernelspec": {
   "display_name": "Python 3 (ipykernel)",
   "language": "python",
   "name": "python3"
  },
  "language_info": {
   "codemirror_mode": {
    "name": "ipython",
    "version": 3
   },
   "file_extension": ".py",
   "mimetype": "text/x-python",
   "name": "python",
   "nbconvert_exporter": "python",
   "pygments_lexer": "ipython3",
   "version": "3.8.16"
  },
  "toc": {
   "base_numbering": 1,
   "nav_menu": {},
   "number_sections": true,
   "sideBar": true,
   "skip_h1_title": false,
   "title_cell": "Table of Contents",
   "title_sidebar": "Contents",
   "toc_cell": false,
   "toc_position": {},
   "toc_section_display": true,
   "toc_window_display": false
  },
  "varInspector": {
   "cols": {
    "lenName": 16,
    "lenType": 16,
    "lenVar": 40
   },
   "kernels_config": {
    "python": {
     "delete_cmd_postfix": "",
     "delete_cmd_prefix": "del ",
     "library": "var_list.py",
     "varRefreshCmd": "print(var_dic_list())"
    },
    "r": {
     "delete_cmd_postfix": ") ",
     "delete_cmd_prefix": "rm(",
     "library": "var_list.r",
     "varRefreshCmd": "cat(var_dic_list()) "
    }
   },
   "types_to_exclude": [
    "module",
    "function",
    "builtin_function_or_method",
    "instance",
    "_Feature"
   ],
   "window_display": false
  }
 },
 "nbformat": 4,
 "nbformat_minor": 5
}
