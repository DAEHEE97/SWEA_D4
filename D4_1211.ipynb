{
 "cells": [
  {
   "cell_type": "markdown",
   "id": "4b47ad28",
   "metadata": {},
   "source": [
    "# 1211. [S/W 문제해결 기본] 2일차 - Ladder2\n",
    "\n",
    "\n",
    "- 이동 마다 카운트 최소\n",
    "- 최단 거리인 idx 추출이므로, 칸수, 이동수 상관 없음, 같은 규칙 적용"
   ]
  },
  {
   "cell_type": "markdown",
   "id": "67e15c4b",
   "metadata": {},
   "source": [
    "---"
   ]
  },
  {
   "cell_type": "markdown",
   "id": "a3b542a2",
   "metadata": {},
   "source": [
    "점심 시간에 산책을 다니는 사원들은 최근 날씨가 더워져, 사다리 게임을 통하여 누가 아이스크림을 구입할지 결정하기로 한다.\n",
    "\n",
    "김 대리는 사다리타기에 참여하지 않는 대신 사다리를 그리기로 하였다.\n",
    "\n",
    "사다리를 다 그리고 보니 김 대리는 어느 사다리를 고르면 최단거리로 바닥에 도착하게 되는지 궁금해졌다. 이를 구해보자.\n",
    "\n",
    "아래 <그림 1>의 예를 살펴보면, 출발점 x=0 및 x=9인 세로 방향의 두 막대 사이에 임의의 개수의 막대들이 랜덤 간격으로 추가되고(이 예에서는 2개가 추가됨) 이 막대들 사이에 가로 방향의 선들이 또한 랜덤하게 연결된다.\n",
    "\n",
    "X=0인 출발점에서 출발하는 사례에 대해서 화살표로 표시한 바와 같이, 아래 방향으로 진행하면서 좌우 방향으로 이동 가능한 통로가 나타나면 방향 전환을 하게 된다.\n",
    "\n",
    "방향 전환 이후엔 다시 아래 방향으로만 이동하게 되며, 바닥에 도착하면 멈추게 된다.\n",
    "\n",
    "최단거리로 바닥에 도착하려면 X=4인 출발점에서 출발해야 하므로 답은 4가 된다. 해당 경로는 별도로 표시하였다.\n",
    "\n",
    "1 0 0 0 1 0 1 0 0 1\n",
    "1 0 0 0 1 0 1 1 1 1\n",
    "1 0 0 0 1 0 1 0 0 1\n",
    "1 0 0 0 1 1 1 0 0 1\n",
    "1 0 0 0 1 0 1 0 0 1\n",
    "1 1 1 1 1 0 1 1 1 1\n",
    "1 0 0 0 1 0 1 0 0 1\n",
    "1 1 1 1 1 0 1 0 0 1\n",
    "1 0 0 0 1 1 1 0 0 1\n",
    "1 0 0 0 1 0 1 0 0 1\n",
    "\n",
    "\n"
   ]
  },
  {
   "cell_type": "markdown",
   "id": "36181349",
   "metadata": {},
   "source": [
    "---"
   ]
  },
  {
   "cell_type": "markdown",
   "id": "1a824c4c",
   "metadata": {},
   "source": [
    "## Memo\n",
    "\n",
    "- 2차원 배열 이동\n",
    "\n",
    "- 조건 내 이동\n",
    "\n",
    "- 좌 우 이동 - 좌우 검사 idx 검사시 range error > zero padding\n",
    "\n",
    "- 이동시 마다 카운트\n",
    "\n",
    "- 카운트 최대 인, 시작 sj 출력\n",
    "\n"
   ]
  },
  {
   "cell_type": "code",
   "execution_count": null,
   "id": "e5006388",
   "metadata": {},
   "outputs": [],
   "source": [
    "T = 10\n",
    "\n",
    "for t in range(1, T+1):\n",
    "    \n",
    "    _ = int(input()) \n",
    "    \n",
    "    N = 100\n",
    "    \n",
    "    # 좌우 검사시 필요한 zero padding\n",
    "    arr = [ [0] + list(map(int,input().split())) +[0] for _ in range(100) ]\n",
    "    \n",
    "    si = 0\n",
    "    sj = 0\n",
    "\n",
    "    lst_cnt = []\n",
    "    lst_sj = []\n",
    "    \n",
    "    \n",
    "    # 문제는 arr 처리 이후 0 으로 초기화 하고 나서 다시 0으로 됨\n",
    "\n",
    "    for j in range(len(arr[0])):\n",
    "        \n",
    "        \n",
    "        if arr[0][j] == 1:\n",
    "            sj = j\n",
    "        else:\n",
    "            continue\n",
    "            \n",
    "        \n",
    "        # si,sj를 출력하는 문제, 이동시 ci,cj 로 이동\n",
    "        ci = si\n",
    "        cj = sj\n",
    "\n",
    "        # 배열처리 후 초기화 문제 \n",
    "        # 이동 전에 arr 초기화 arr새거 여야 함. 2차원 배열 초기화 deepcopy or 2차원 복사\n",
    "        # 시작 할 때 마다, 문제 처리용 배열 생성\n",
    "        \n",
    "        arr_tmp = [ lst[:] for lst in arr ]\n",
    "        cnt = 0\n",
    "\n",
    "        while(True):\n",
    "            \n",
    "            if ci == N:\n",
    "                break\n",
    "                \n",
    "            # 좌\n",
    "            if arr_tmp[ci][cj-1] == 1:\n",
    "                arr_tmp[ci][cj] = 0\n",
    "                ci,cj = ci,cj-1\n",
    "                cnt +=1\n",
    "            # 우    \n",
    "            elif arr_tmp[ci][cj+1] == 1:\n",
    "                arr_tmp[ci][cj] = 0\n",
    "                ci,cj = ci,cj+1\n",
    "                cnt +=1\n",
    "            # 하\n",
    "            else:\n",
    "                arr_tmp[ci][cj] = 0\n",
    "                ci,cj = ci+1,cj\n",
    "                cnt +=1\n",
    "            \n",
    "            \n",
    "        lst_cnt.append(cnt)\n",
    "        lst_sj.append(sj)\n",
    "\n",
    "    \n",
    "    # lst_sj, lst_cnt 에서 lst_cnt가 최소인 인덱스를 추출해서\n",
    "    # 그 인덱스에 해당하는 lst_sj 출력\n",
    "    # 제로 패딩이니까 하나 빼서 출력\n",
    "    print('#{0} {1}'.format(t,lst_sj[lst_cnt.index(min(lst_cnt))] - 1))\n",
    "    \n",
    "            "
   ]
  },
  {
   "cell_type": "markdown",
   "id": "8d976316",
   "metadata": {},
   "source": [
    "## [제약사항]\n",
    "\n",
    "한 막대에서 출발한 가로선이 다른 막대를 가로질러서 연속하여 이어지는 경우는 없다.\n",
    "\n",
    "## [입력]\n",
    "\n",
    "각 테스트 케이스의 첫 번째 줄에는 테스트 케이스의 번호가 주어지며, 바로 다음 줄에 테스트 케이스가 주어진다.\n",
    "\n",
    "총 10개의 테스트 케이스가 주어진다.\n",
    "\n",
    "## [출력]\n",
    "\n",
    "#부호와 함께 테스트 케이스의 번호를 출력하고, 공백 문자 후 도착하게 되는 출발점의 x좌표를 출력한다."
   ]
  },
  {
   "cell_type": "markdown",
   "id": "ad78972d",
   "metadata": {},
   "source": [
    "---"
   ]
  },
  {
   "cell_type": "markdown",
   "id": "ff6309a1",
   "metadata": {},
   "source": [
    "## Memo\n",
    "\n",
    "\n",
    "- 시작 점 여러개, 도착 점 여러개, 최단 거리 구하기\n",
    "\n",
    "\n",
    "- 시작 점 모두 테스트 해야봐야 함 si = 0, sj in range(0,99+1) 로 찾고, 내려가면서 카운트 세면서 시작\n",
    "\n",
    "\n",
    "- 사다리 타기 특성상, 같은 층에서 양옆 둘다 이동 가는 케이스는 존재 x\n",
    "\n",
    "\n",
    "- 이동 부분 0으로 초기화하면서, 이동했으므로, 다시 1로 초기화 해줘야 함.\n",
    "    - "
   ]
  },
  {
   "cell_type": "markdown",
   "id": "1db2f503",
   "metadata": {},
   "source": [
    "---"
   ]
  },
  {
   "cell_type": "markdown",
   "id": "12fc151a",
   "metadata": {},
   "source": [
    "<img src = '1211.png' width = '500' height = '500'>"
   ]
  },
  {
   "cell_type": "markdown",
   "id": "78227680",
   "metadata": {},
   "source": [
    "---"
   ]
  },
  {
   "cell_type": "markdown",
   "id": "2f84ffbb",
   "metadata": {},
   "source": [
    "continue 를 이용해서 break 처럼 사용, 만약 value == 1, 아래로 내려가서 처리\n",
    "\n",
    "- 값이 1이면 출발\n",
    "\n",
    "\n",
    "```    \n",
    "    for sj in range(1,100+1):\n",
    "        if arr[0][sj] == 0:\n",
    "            continue\n",
    "        \n",
    "        ci = 0\n",
    "        cj = sj\n",
    "```\n",
    "\n",
    "\n",
    "1211 처럼, 값을 0으로 변경하면서 돌면, 중복 부분 체크가 아예 안됨 서로 같은 길을 가는 곳이 있음\n",
    "\n"
   ]
  },
  {
   "cell_type": "markdown",
   "id": "0e179767",
   "metadata": {},
   "source": [
    "---"
   ]
  },
  {
   "cell_type": "markdown",
   "id": "81daf6a6",
   "metadata": {},
   "source": [
    "## 2차원 이상의 다차원 리스트는 리스트를 완전히 복사하려면 copy 메서드 대신 copy 모듈의 deepcopy 함수를 사용해야 합니다."
   ]
  },
  {
   "cell_type": "markdown",
   "id": "25c8ed69",
   "metadata": {},
   "source": [
    "- deepcopy\n",
    "\n",
    "- sj, continue\n",
    "\n",
    "- sj 고정, ci,cj 이동\n"
   ]
  },
  {
   "cell_type": "code",
   "execution_count": null,
   "id": "d6951093",
   "metadata": {},
   "outputs": [],
   "source": [
    "import copy\n",
    "\n",
    "T = 10\n",
    "\n",
    "for t in range(1, T + 1):\n",
    "        \n",
    "    _ = int(input())\n",
    "    \n",
    "    # 앞 뒤 zero padding - 0인 부분 이동 x out of index 처리 용\n",
    "    arr = [ [0] + list(map(int, input().split())) + [0] for _ in range(100) ]\n",
    "    \n",
    "    # count 가 최소인 sj 를 찾아야 함.\n",
    "    # 움직이는건 ci,cj \n",
    "\n",
    "    lst_cnt = []\n",
    "    lst_sj = []\n",
    "    \n",
    "\n",
    "    tmp = copy.deepcopy(arr)\n",
    "    \n",
    "    for sj in range(1, 100+1):\n",
    "        \n",
    "        # sj == 1를 찾으면, 시작, if si,sj 검사시 0 이면, sj 이동\n",
    "        if arr[0][sj] == 0:\n",
    "            continue\n",
    "        \n",
    "        ci = 0\n",
    "        cj = sj\n",
    "        \n",
    "        cnt = 0\n",
    "        \n",
    "        while (1):\n",
    "            \n",
    "            if ci == 99:\n",
    "                lst_cnt.append(cnt)\n",
    "                lst_sj.append(sj)\n",
    "                break\n",
    "            \n",
    "            arr[ci][cj] = 0\n",
    "            cnt +=1\n",
    "\n",
    "            if arr[ci][cj-1] == 1:\n",
    "                ci, cj = ci, cj-1            \n",
    "            \n",
    "            elif arr[ci][cj+1] == 1:\n",
    "                ci, cj = ci, cj+1            \n",
    "            else:\n",
    "                ci, cj = ci+1, cj\n",
    "        \n",
    "        arr = copy.deepcopy(tmp) # 초기화 \n",
    "        \n",
    "    print('#{0} {1}'.format(t, lst_sj[lst_cnt.index(min(lst_cnt))] - 1))\n"
   ]
  },
  {
   "cell_type": "markdown",
   "id": "90aa5132",
   "metadata": {},
   "source": [
    "---"
   ]
  },
  {
   "cell_type": "code",
   "execution_count": null,
   "id": "6cde439a",
   "metadata": {},
   "outputs": [],
   "source": [
    "import copy\n",
    "\n",
    "T = 10\n",
    "\n",
    "for t in range(1, T + 1):\n",
    "        \n",
    "    _ = int(input())\n",
    "    \n",
    "    # 앞 뒤 zero padding - 0인 부분 이동 x out of index 처리 용\n",
    "    tmp = [ [0] + list(map(int, input().split())) + [0] for _ in range(100) ]\n",
    "    \n",
    "    # count 가 최소인 sj 를 찾아야 함.\n",
    "    # 움직이는건 ci,cj \n",
    "\n",
    "    lst_cnt = []\n",
    "    lst_sj = []\n",
    "    \n",
    "    \n",
    "    for sj in range(1, 100+1):\n",
    "        \n",
    "        # sj == 1를 찾으면, 시작, if si,sj 검사시 0 이면, sj 이동\n",
    "        if tmp[0][sj] == 0:\n",
    "            continue\n",
    "        \n",
    "        arr = copy.deepcopy(tmp)\n",
    "\n",
    "        ci = 0\n",
    "        cj = sj\n",
    "        \n",
    "        cnt = 0\n",
    "        \n",
    "        while (1):\n",
    "            \n",
    "            if ci == 99:\n",
    "                lst_cnt.append(cnt)\n",
    "                lst_sj.append(sj)\n",
    "                break\n",
    "            \n",
    "            arr[ci][cj] = 0\n",
    "            cnt +=1\n",
    "\n",
    "            if arr[ci][cj-1] == 1:\n",
    "                ci, cj = ci, cj-1            \n",
    "            \n",
    "            elif arr[ci][cj+1] == 1:\n",
    "                ci, cj = ci, cj+1            \n",
    "            else:\n",
    "                ci, cj = ci+1, cj\n",
    "                \n",
    "    print('#{0} {1}'.format(t, lst_sj[lst_cnt.index(min(lst_cnt))] - 1))\n"
   ]
  },
  {
   "cell_type": "markdown",
   "id": "c66a3919",
   "metadata": {},
   "source": [
    "---"
   ]
  },
  {
   "cell_type": "code",
   "execution_count": 11,
   "id": "dee70dfa",
   "metadata": {},
   "outputs": [],
   "source": [
    "arr = [[1,2,3],[4,5,6]]"
   ]
  },
  {
   "cell_type": "code",
   "execution_count": 12,
   "id": "a7ea83a1",
   "metadata": {},
   "outputs": [],
   "source": [
    "tmp  = [ lst[:] for lst in arr ] "
   ]
  },
  {
   "cell_type": "code",
   "execution_count": 13,
   "id": "2930c6f4",
   "metadata": {},
   "outputs": [
    {
     "data": {
      "text/plain": [
       "[[1, 2, 3], [4, 5, 6]]"
      ]
     },
     "execution_count": 13,
     "metadata": {},
     "output_type": "execute_result"
    }
   ],
   "source": [
    "tmp"
   ]
  },
  {
   "cell_type": "code",
   "execution_count": null,
   "id": "1c7b345f",
   "metadata": {},
   "outputs": [],
   "source": [
    "\n",
    "T = 10\n",
    "\n",
    "for t in range(1, T + 1):\n",
    "        \n",
    "    _ = int(input())\n",
    "    \n",
    "    # 앞 뒤 zero padding - 0인 부분 이동 x out of index 처리 용\n",
    "    arr = [[0] + list(map(int, input().split())) + [0] for _ in range(100)]\n",
    "    \n",
    "    lst_cnt = []\n",
    "    lst_sj = []\n",
    "    \n",
    "    tmp = [ lst[:] for lst in arr ] # arr을 복사하여 tmp에 저장\n",
    "\n",
    "    for sj in range(1, 100+1):\n",
    "        \n",
    "        if arr[0][sj] == 0:\n",
    "            continue\n",
    "        \n",
    "        ci = 0\n",
    "        cj = sj\n",
    "        cnt = 0\n",
    "    \n",
    "        # 아래로 내려 갈수 있으면 내려 감\n",
    "        while (1):\n",
    "            if ci == 99:\n",
    "                lst_cnt.append(cnt)\n",
    "                lst_sj.append(sj)\n",
    "                break\n",
    "            \n",
    "            arr[ci][cj] = 0\n",
    "            cnt +=1\n",
    "\n",
    "            if arr[ci][cj-1] == 1:\n",
    "                ci, cj = ci, cj-1            \n",
    "            \n",
    "            elif arr[ci][cj+1] == 1:\n",
    "                ci, cj = ci, cj+1            \n",
    "            else:\n",
    "                ci, cj = ci+1, cj\n",
    "        \n",
    "        arr = [ lst[:] for lst in tmp ] # arr을 tmp로 복사하여 원래 상태로 되돌림\n",
    "    \n",
    "    print('#{0} {1}'.format(t, lst_sj[lst_cnt.index(min(lst_cnt))] - 1))\n"
   ]
  },
  {
   "cell_type": "markdown",
   "id": "cdfd24d6",
   "metadata": {},
   "source": [
    "---"
   ]
  },
  {
   "cell_type": "code",
   "execution_count": null,
   "id": "37663716",
   "metadata": {},
   "outputs": [],
   "source": [
    "T = 10\n",
    "\n",
    "for t in range(1, T + 1):\n",
    "        \n",
    "    _ = int(input())\n",
    "    \n",
    "    # 앞 뒤 zero padding - 0인 부분 이동 x range error 처리 용\n",
    "    arr = [[0] + list(map(int, input().split())) + [0] for _ in range(100)]\n",
    " \n",
    "    # 1값인 시작위치 찾기(ci, cj)\n",
    "    \n",
    "    \n",
    "    mn = 100*100\n",
    "    \n",
    "    for sj in range(1,100+1):\n",
    "        if arr[0][sj] == 0:\n",
    "            continue\n",
    "        \n",
    "        ci = 0\n",
    "        cj = sj\n",
    "\n",
    "        cnt = 0\n",
    "\n",
    "        dr = 0\n",
    "    \n",
    "        # 아래로 내려 갈수 있으면 내려 감\n",
    "        while ci < 99:\n",
    "            \n",
    "            cnt += 1\n",
    "\n",
    "                if dr == 0:\n",
    "                    ci += 1\n",
    "                    # 아래로 이동 후, 양 옆 존재하는지 검사 후, 방향 1,-1 전환\n",
    "                    if arr[ci][cj-1] == 1:\n",
    "                        dr = -1\n",
    "\n",
    "                    elif arr[ci][cj+1] == 1:\n",
    "                        dr = 1\n",
    "                else:\n",
    "                    cj += dr\n",
    "                    # 만약 아래방향이 있다면, 아래로 이동 후, 방향 0 전환\n",
    "                    if arr[ci][cj+dr] == 0:\n",
    "                        dr = 0\n",
    "        if mn >= cnt:\n",
    "            mn, ans = cnt, sj-1\n",
    " \n",
    "     \n",
    "    print('#{0} {1}'.format(t,ans))\n",
    "    "
   ]
  }
 ],
 "metadata": {
  "kernelspec": {
   "display_name": "Python 3 (ipykernel)",
   "language": "python",
   "name": "python3"
  },
  "language_info": {
   "codemirror_mode": {
    "name": "ipython",
    "version": 3
   },
   "file_extension": ".py",
   "mimetype": "text/x-python",
   "name": "python",
   "nbconvert_exporter": "python",
   "pygments_lexer": "ipython3",
   "version": "3.8.16"
  },
  "toc": {
   "base_numbering": 1,
   "nav_menu": {},
   "number_sections": true,
   "sideBar": true,
   "skip_h1_title": false,
   "title_cell": "Table of Contents",
   "title_sidebar": "Contents",
   "toc_cell": false,
   "toc_position": {},
   "toc_section_display": true,
   "toc_window_display": false
  },
  "varInspector": {
   "cols": {
    "lenName": 16,
    "lenType": 16,
    "lenVar": 40
   },
   "kernels_config": {
    "python": {
     "delete_cmd_postfix": "",
     "delete_cmd_prefix": "del ",
     "library": "var_list.py",
     "varRefreshCmd": "print(var_dic_list())"
    },
    "r": {
     "delete_cmd_postfix": ") ",
     "delete_cmd_prefix": "rm(",
     "library": "var_list.r",
     "varRefreshCmd": "cat(var_dic_list()) "
    }
   },
   "types_to_exclude": [
    "module",
    "function",
    "builtin_function_or_method",
    "instance",
    "_Feature"
   ],
   "window_display": false
  }
 },
 "nbformat": 4,
 "nbformat_minor": 5
}
