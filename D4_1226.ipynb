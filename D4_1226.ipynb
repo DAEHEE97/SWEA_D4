{
 "cells": [
  {
   "cell_type": "markdown",
   "id": "83c07a0a",
   "metadata": {},
   "source": [
    "# 1226. [S/W 문제해결 기본] 7일차 - 미로1\n",
    "\n",
    "- https://swexpertacademy.com/main/code/problem/problemDetail.do?contestProbId=AV14vXUqAGMCFAYD&\n",
    "\n",
    "\n"
   ]
  },
  {
   "cell_type": "markdown",
   "id": "e0d70b28",
   "metadata": {},
   "source": [
    "아래 그림과 같은 미로가 있다. 16*16 행렬의 형태로 만들어진 미로에서 흰색 바탕은 길, 노란색 바탕은 벽을 나타낸다.\n",
    "\n",
    "가장 좌상단에 있는 칸을 (0, 0)의 기준으로 하여, 가로방향을 x 방향, 세로방향을 y 방향이라고 할 때, 미로의 시작점은 (1, 1)이고 도착점은 (13, 13)이다.\n",
    "\n",
    "주어진 미로의 출발점으로부터 도착지점까지 갈 수 있는 길이 있는지 판단하는 프로그램을 작성하라.\n"
   ]
  },
  {
   "cell_type": "markdown",
   "id": "5032bf8c",
   "metadata": {},
   "source": [
    "## [입력]\n",
    "\n",
    "각 테스트 케이스의 첫 번째 줄에는 테스트 케이스의 번호가 주어지며, 바로 다음 줄에 테스트 케이스가 주어진다.\n",
    "\n",
    "총 10개의 테스트케이스가 주어진다.\n",
    "\n",
    "테스트 케이스에서 1은 벽을 나타내며 0은 길, 2는 출발점, 3은 도착점을 나타낸다.\n",
    "\n",
    "## [출력]\n",
    "\n",
    "#부호와 함께 테스트 케이스의 번호를 출력하고, 공백 문자 후 도달 가능 여부를 1 또는 0으로 표시한다 (1 - 가능함, 0 - 가능하지 않음)."
   ]
  },
  {
   "cell_type": "markdown",
   "id": "8e226015",
   "metadata": {},
   "source": [
    "---"
   ]
  },
  {
   "cell_type": "code",
   "execution_count": null,
   "id": "092a0e7f",
   "metadata": {},
   "outputs": [],
   "source": [
    "from collections import deque\n",
    "\n",
    "\n",
    "def bfs(si, sj):\n",
    "    \n",
    "    # [1] q, v[] 생성\n",
    "    q = deque()\n",
    "    v = [ [0]*N for _ in range(N) ]\n",
    "\n",
    "    # [2] q에 초기데이터 삽입, v표시\n",
    "    q.append((si,sj))\n",
    "    v[si][sj] = 1\n",
    "\n",
    "    while q:\n",
    "        \n",
    "        ci,cj = q.popleft()\n",
    "        \n",
    "        # [4] 문제 조건\n",
    "        if arr[ci][cj] == 3:\n",
    "            return 1 # v[ci][cj]\n",
    "\n",
    "        # [3] 네방향, 범위내, 미방문, 벽이 아니면 방문(q) \n",
    "        for di,dj in ((-1,0),(1,0),(0,-1),(0,1)):\n",
    "            \n",
    "            ni,nj = ci+di, cj+dj\n",
    "            \n",
    "            if 0<=ni<N and 0<=nj<N and v[ni][nj]==0 and arr[ni][nj]!=1:\n",
    "                q.append((ni,nj))\n",
    "                v[ni][nj]=1\n",
    "    \n",
    "    return 0\n",
    "\n",
    "\n",
    "\n",
    "T = 10\n",
    "\n",
    "for t in range(1, T + 1):\n",
    "\n",
    "    _ = input()\n",
    "    \n",
    "    N = 16\n",
    "    \n",
    "    arr = [ list(map(int,input())) for _ in range(N) ]\n",
    "    \n",
    "    for i in range(N):\n",
    "        \n",
    "        for j in range(N):\n",
    "            \n",
    "            if arr[i][j] == 2:\n",
    "                si, sj = i, j\n",
    "            \n",
    "            if arr[i][j] == 3:\n",
    "                ei, ej = i, j\n",
    "                \n",
    "                \n",
    "    # bfs\n",
    "    ans = bfs(si, sj)\n",
    "    \n",
    "    print('#{0} {1}'.format(t,ans))\n",
    "    \n"
   ]
  },
  {
   "cell_type": "markdown",
   "id": "19e6a679",
   "metadata": {},
   "source": [
    "---"
   ]
  },
  {
   "cell_type": "code",
   "execution_count": null,
   "id": "cb580ae5",
   "metadata": {},
   "outputs": [],
   "source": [
    "# 방문 가능하면 1출력, 아니면 0출력\n",
    "\n",
    "# 방문 표시 리스트에서, 도착 지점 인덱스가 방문 했으면 1출력, 아니면 0출력 \n",
    "\n",
    "\n",
    "def dfs(ci, cj):\n",
    "    \n",
    "    # 네방향, 범위내, 미방문, 벽이아니면 방문(q)\n",
    "    for di, dj in ((-1, 0), (1, 0), (0, -1), (0, 1)):\n",
    "        \n",
    "        ni, nj = ci + di, cj + dj\n",
    "        \n",
    "        if 0 <= ni < N and 0 <= nj < N and v[ni][nj] == 0 and arr[ni][nj] != 1:\n",
    "            v[ni][nj] = 1\n",
    "            dfs(ni,nj)\n",
    "\n",
    "\n",
    "T = 10\n",
    "\n",
    "for t in range(1, T + 1):\n",
    "\n",
    "    _ = input()\n",
    "    \n",
    "    N = 16\n",
    "    \n",
    "    arr = [ list(map(int,input())) for _ in range(N) ]\n",
    "    \n",
    "    for i in range(N):\n",
    "        \n",
    "        for j in range(N):\n",
    "            \n",
    "            if arr[i][j] == 2:\n",
    "                si, sj = i, j\n",
    "            \n",
    "            if arr[i][j] == 3:\n",
    "                ei, ej = i, j\n",
    "                \n",
    "\n",
    "    # [2] dfs: 단순히 경로가 있는지(0/1), 경로의 개수\n",
    "    \n",
    "    v = [ [0]*N for _ in range(N) ]\n",
    "    \n",
    "    v[si][sj] = 1\n",
    "    \n",
    "    dfs(si, sj)\n",
    "    \n",
    "    print(f'#{t} {v[ei][ej]}')\n"
   ]
  }
 ],
 "metadata": {
  "kernelspec": {
   "display_name": "Python 3 (ipykernel)",
   "language": "python",
   "name": "python3"
  },
  "language_info": {
   "codemirror_mode": {
    "name": "ipython",
    "version": 3
   },
   "file_extension": ".py",
   "mimetype": "text/x-python",
   "name": "python",
   "nbconvert_exporter": "python",
   "pygments_lexer": "ipython3",
   "version": "3.8.16"
  },
  "toc": {
   "base_numbering": 1,
   "nav_menu": {},
   "number_sections": true,
   "sideBar": true,
   "skip_h1_title": false,
   "title_cell": "Table of Contents",
   "title_sidebar": "Contents",
   "toc_cell": false,
   "toc_position": {},
   "toc_section_display": true,
   "toc_window_display": false
  },
  "varInspector": {
   "cols": {
    "lenName": 16,
    "lenType": 16,
    "lenVar": 40
   },
   "kernels_config": {
    "python": {
     "delete_cmd_postfix": "",
     "delete_cmd_prefix": "del ",
     "library": "var_list.py",
     "varRefreshCmd": "print(var_dic_list())"
    },
    "r": {
     "delete_cmd_postfix": ") ",
     "delete_cmd_prefix": "rm(",
     "library": "var_list.r",
     "varRefreshCmd": "cat(var_dic_list()) "
    }
   },
   "types_to_exclude": [
    "module",
    "function",
    "builtin_function_or_method",
    "instance",
    "_Feature"
   ],
   "window_display": false
  }
 },
 "nbformat": 4,
 "nbformat_minor": 5
}
